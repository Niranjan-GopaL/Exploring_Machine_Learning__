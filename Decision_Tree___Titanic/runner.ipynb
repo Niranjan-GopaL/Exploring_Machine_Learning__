{
 "cells": [
  {
   "cell_type": "code",
   "execution_count": 22,
   "metadata": {},
   "outputs": [],
   "source": [
    "\n",
    "import pandas as pd\n",
    "import seaborn as sns\n",
    "import numpy as np\n",
    "import matplotlib.pyplot as plt\n",
    "\n",
    "from sklearn.preprocessing import LabelEncoder, StandardScaler\n",
    "from sklearn.model_selection import train_test_split, GridSearchCV\n",
    "\n",
    "from sklearn.tree import DecisionTreeClassifier\n",
    "from sklearn.ensemble import RandomForestClassifier, StackingClassifier\n",
    "from sklearn.linear_model import LogisticRegression\n",
    "from xgboost import XGBClassifier\n",
    "from sklearn.metrics import accuracy_score"
   ]
  },
  {
   "cell_type": "code",
   "execution_count": 30,
   "metadata": {},
   "outputs": [],
   "source": [
    "train_df = pd.read_csv(\"train.csv\")\n",
    "test_df = pd.read_csv(\"test.csv\")\n",
    "\n",
    "train_df['Age'].fillna(train_df['Age'].mode()[0], inplace=True)\n",
    "train_df['Fare'].fillna(train_df['Fare'].median(), inplace=True)\n",
    "train_df['Embarked'].fillna(train_df['Embarked'].mode()[0], inplace=True)\n",
    "\n",
    "# Feature Engineering\n",
    "train_df['FamilySize'] = train_df['SibSp'] + train_df['Parch'] + 1\n",
    "test_df['FamilySize'] = test_df['SibSp'] + test_df['Parch'] + 1\n",
    "\n",
    "# train_df['Title'] = train_df['Name'].str.extract(' ([A-Za-z]+)\\.', expand=False)\n",
    "# test_df['Title'] = test_df['Name'].str.extract(' ([A-Za-z]+)\\.', expand=False)\n",
    "\n",
    "train_df.head()\n",
    "train_df.drop(['Cabin', 'Ticket'], axis=1, inplace=True)\n",
    "\n",
    "\n",
    "# Encoding categorical variables\n",
    "label_encoder = LabelEncoder()\n",
    "train_df['Sex'] = label_encoder.fit_transform(train_df['Sex'])       # Male=1, Female=0\n",
    "# train_df['Title'] = label_encoder.fit_transform(train_df['Title'])\n",
    "# test_df['Title'] = label_encoder.transform(test_df['Title'])\n",
    "\n",
    "# One-Hot Encode 'Embarked'\n",
    "train_df = pd.get_dummies(train_df, columns=['Embarked'], drop_first=True)\n",
    "\n",
    "# Dropping non-informative columns\n",
    "train_df.drop(['PassengerId', 'Name'], axis=1, inplace=True)\n",
    "\n",
    "# Prepare data for training\n",
    "X_train = train_df.drop('Survived', axis=1)\n",
    "y_train = train_df['Survived']\n",
    "\n",
    "\n",
    "# Feature Scaling\n",
    "scaler = StandardScaler()\n",
    "X_train[['Fare', 'Age']] = scaler.fit_transform(X_train[['Fare', 'Age']])\n",
    "\n",
    "\n",
    "test_df['Age'].fillna(test_df['Age'].median(), inplace=True)\n",
    "test_df['Fare'].fillna(test_df['Fare'].median(), inplace=True)\n",
    "test_df['Embarked'].fillna(test_df['Embarked'].mode()[0], inplace=True)\n",
    "\n",
    "# Encoding categorical variables in test set\n",
    "test_df['Sex'] = label_encoder.transform(test_df['Sex'])  # Male=1, Female=0\n",
    "test_df = pd.get_dummies(test_df, columns=['Embarked'], drop_first=True)\n",
    "\n",
    "\n",
    "test_df.drop(['PassengerId', 'Name', 'Cabin', 'Ticket'], axis=1, inplace=True)"
   ]
  },
  {
   "cell_type": "code",
   "execution_count": 39,
   "metadata": {},
   "outputs": [],
   "source": [
    "train_df = pd.read_csv('train.csv')\n",
    "test_df = pd.read_csv('test.csv')\n",
    "\n",
    "# Combine datasets for consistent preprocessing\n",
    "combine = [train_df, test_df]\n",
    "\n",
    "\n",
    "\n",
    "# Fill missing 'Age' and 'Fare' values ; 'Embarked' values\n",
    "for dataset in combine:\n",
    "    dataset['Age'].fillna(dataset['Age'].mode()[0], inplace=True)\n",
    "    dataset['Fare'].fillna(dataset['Fare'].mode()[0], inplace=True)\n",
    "    dataset['Embarked'].fillna(dataset['Embarked'].mode()[0], inplace=True)\n",
    "\n",
    "\n",
    "# Extract Titles from Names\n",
    "for dataset in combine:\n",
    "    dataset['Title'] = dataset['Name'].str.extract(' ([A-Za-z]+)\\.', expand=False)\n",
    "\n",
    "\n",
    "# Simplify titles\n",
    "title_mapping = {\n",
    "    \"Mr\": 1, \"Miss\": 2, \"Mrs\": 3, \"Master\": 4, \"Dr\": 5, \"Rev\": 6, \"Col\": 7, \"Major\": 7, \"Mlle\": 8, \n",
    "    \"Countess\": 9, \"Ms\": 2, \"Lady\": 9, \"Jonkheer\": 10, \"Don\": 11, \"Dona\": 11, \"Mme\": 3, \"Capt\": 7, \"Sir\": 11}\n",
    "for dataset in combine:\n",
    "    dataset['Title'] = dataset['Title'].map(title_mapping).fillna(0)\n",
    "\n",
    "\n",
    "# Feature engineering ; additional DOMAIN SPECIFIC features and \n",
    "for dataset in combine:\n",
    "    dataset['FamilySize']     = dataset['SibSp'] + dataset['Parch'] + 1\n",
    "    dataset['FamilySize_and_Age'] = dataset['FamilySize'] * dataset['Age']\n",
    "    dataset['Pclass_Fare'] = dataset['Pclass'] * dataset['Fare']\n",
    "    dataset['Pclass_Age'] = dataset['Pclass'] * dataset['Age']\n",
    "    dataset['Fare_per_Person'] = dataset['Fare'] / dataset['FamilySize']\n",
    "    dataset['is_Alone'] = np.where((dataset['SibSp'] == 0) & (dataset['Parch'] == 0), 1, 0)\n",
    "\n",
    "# Drop unnecessary columns\n",
    "train_df.drop(['PassengerId', 'Cabin', 'Ticket', 'Name'], axis=1, inplace=True)\n",
    "test_df.drop (['PassengerId', 'Cabin', 'Ticket', 'Name'], axis=1, inplace=True)\n",
    "\n",
    "\n",
    "\n",
    "# Convert categorical features to numeric\n",
    "label_encoder = LabelEncoder()\n",
    "\n",
    "\n",
    "for dataset in combine:\n",
    "    dataset['Sex'] = label_encoder.fit_transform(dataset['Sex'])\n",
    "    \n",
    "train_df = pd.get_dummies(train_df, columns=['Embarked'], drop_first=True)\n",
    "test_df  = pd.get_dummies(test_df, columns=['Embarked'], drop_first=True)\n",
    "\n",
    "\n",
    "\n",
    "# Feature scaling\n",
    "scaler = StandardScaler()\n",
    "train_df[['Fare', 'Age']] = scaler.fit_transform(train_df[['Fare', 'Age']])\n",
    "test_df[['Fare', 'Age']] = scaler.transform(test_df[['Fare', 'Age']])\n",
    "\n",
    "# Split data for training\n",
    "X_train = train_df.drop('Survived', axis=1)\n",
    "y_train = train_df['Survived']"
   ]
  },
  {
   "cell_type": "markdown",
   "metadata": {},
   "source": [
    "## Hyperparameter Tuning and Training - Random Forest"
   ]
  },
  {
   "cell_type": "code",
   "execution_count": 40,
   "metadata": {},
   "outputs": [
    {
     "name": "stdout",
     "output_type": "stream",
     "text": [
      "Best parameters for Random Forest: {'max_depth': 3, 'min_samples_leaf': 6, 'min_samples_split': 15, 'n_estimators': 700}\n"
     ]
    }
   ],
   "source": [
    "# Random Forest Classifier with GridSearchCV\n",
    "rf = RandomForestClassifier(random_state=42)\n",
    "\n",
    "# Best parameters for Random Forest: {'max_depth': 5, 'min_samples_leaf': 4, 'min_samples_split': 10, 'n_estimators': 300} => 81.64\n",
    "# Best parameters for Random Forest: {'max_depth': 3, 'min_samples_leaf': 2, 'min_samples_split': 15, 'n_estimators': 500} => 81.56\n",
    "# Best parameters for Random Forest: {'max_depth': 3, 'min_samples_leaf': 6, 'min_samples_split': 15, 'n_estimators': 700} =>\n",
    "\n",
    "# Define hyperparameters to tune\n",
    "rf_params = {\n",
    "    'n_estimators': [100, 300, 500, 700, 1000],\n",
    "    'max_depth': [3, 5, 7],\n",
    "    'min_samples_split': [5, 10, 15],\n",
    "    'min_samples_leaf': [2, 4, 6]\n",
    "}\n",
    "\n",
    "# Perform GridSearchCV\n",
    "grid_search_rf = GridSearchCV(estimator=rf, param_grid=rf_params, cv=5, scoring='accuracy')\n",
    "grid_search_rf.fit(X_train, y_train)\n",
    "\n",
    "# Best parameters\n",
    "print(\"Best parameters for Random Forest:\", grid_search_rf.best_params_)\n",
    "\n",
    "# Final model with best parameters\n",
    "best_rf = grid_search_rf.best_estimator_"
   ]
  },
  {
   "cell_type": "markdown",
   "metadata": {},
   "source": [
    "## Hyperparameter Tuning and Training - XGBoost"
   ]
  },
  {
   "cell_type": "code",
   "execution_count": 41,
   "metadata": {},
   "outputs": [
    {
     "name": "stdout",
     "output_type": "stream",
     "text": [
      "Best parameters for XGBoost: {'learning_rate': 0.1, 'max_depth': 3, 'n_estimators': 100, 'subsample': 0.8}\n"
     ]
    }
   ],
   "source": [
    "# XGBoost Classifier with GridSearchCV\n",
    "xgb_model = XGBClassifier(random_state=42)\n",
    "\n",
    "# Define hyperparameters to tune\n",
    "xgb_params = {\n",
    "    'learning_rate': [0.01, 0.05, 0.1],\n",
    "    'n_estimators': [100, 200, 300],\n",
    "    'max_depth': [3, 4, 5],\n",
    "    'subsample': [0.5, 0.6, 0.8]\n",
    "}\n",
    "# Best parameters for XGBoost: {'learning_rate': 0.05, 'max_depth': 3, 'n_estimators': 100, 'subsample': 0.6} => 81.64\n",
    "# Best parameters for XGBoost: {'learning_rate': 0.1, 'max_depth': 3, 'n_estimators': 100, 'subsample': 0.8}\n",
    "\n",
    "# Perform GridSearchCV\n",
    "grid_search_xgb = GridSearchCV(estimator=xgb_model, param_grid=xgb_params, cv=5, scoring='accuracy')\n",
    "grid_search_xgb.fit(X_train, y_train)\n",
    "\n",
    "# Best parameters\n",
    "print(\"Best parameters for XGBoost:\", grid_search_xgb.best_params_)\n",
    "\n",
    "# Final model with best parameters\n",
    "best_xgb = grid_search_xgb.best_estimator_"
   ]
  },
  {
   "cell_type": "code",
   "execution_count": 45,
   "metadata": {},
   "outputs": [
    {
     "name": "stdout",
     "output_type": "stream",
     "text": [
      "Random Forest Best Score: 0.828612232837585\n",
      "XGBoost Best Score: 0.832847434255885\n"
     ]
    }
   ],
   "source": [
    "# Print the best scores\n",
    "print(f\"Random Forest Best Score: {grid_search_rf.best_score_}\")\n",
    "print(f\"XGBoost Best Score: {grid_search_xgb.best_score_}\")"
   ]
  },
  {
   "cell_type": "code",
   "execution_count": null,
   "metadata": {},
   "outputs": [],
   "source": []
  },
  {
   "cell_type": "code",
   "execution_count": 46,
   "metadata": {},
   "outputs": [
    {
     "name": "stdout",
     "output_type": "stream",
     "text": [
      "Validation Accuracy: 0.6842\n"
     ]
    }
   ],
   "source": [
    "# Split data into training and testing sets\n",
    "X_train, X_val, y_train, y_val = train_test_split(X_train, y_train, test_size=0.2, random_state=42)\n",
    "\n",
    "# Define base models\n",
    "random_forest = RandomForestClassifier(n_estimators=100, random_state=42)\n",
    "xgboost = XGBClassifier(random_state=42)\n",
    "\n",
    "# Define a meta model (final classifier)\n",
    "meta_model = LogisticRegression(C=1, random_state=42)\n",
    "\n",
    "\n",
    "# Create the stacking classifier\n",
    "stacking_clf = StackingClassifier(\n",
    "    estimators=[\n",
    "        ('rf', random_forest),\n",
    "        ('xgb', xgboost)\n",
    "    ],\n",
    "    final_estimator=meta_model,\n",
    "    cv=5\n",
    ")\n",
    "\n",
    "# Fit the model\n",
    "stacking_clf.fit(X_train, y_train)\n",
    "\n",
    "# Make predictions\n",
    "y_pred = stacking_clf.predict(X_val)\n",
    "\n",
    "# Evaluate the accuracy\n",
    "accuracy = accuracy_score(y_val, y_pred)\n",
    "print(f\"Validation Accuracy: {accuracy:.4f}\")\n",
    "\n",
    "# Make predictions on test set\n",
    "test_predictions = stacking_clf.predict(test_df)\n",
    "\n",
    "# Save predictions for submission\n",
    "submission = pd.DataFrame({\n",
    "    'PassengerId': pd.read_csv('test.csv')['PassengerId'], \n",
    "    'Survived': test_predictions\n",
    "})\n",
    "submission.to_csv('StackingMethode_submission_Is_ALone_Feature.csv', index=False)"
   ]
  },
  {
   "cell_type": "code",
   "execution_count": 47,
   "metadata": {},
   "outputs": [],
   "source": [
    "# Predict on test data using Random Forest, XGBoost\n",
    "rf_predictions = best_rf.predict(test_df)\n",
    "xgb_predictions = best_xgb.predict(test_df)\n",
    "\n",
    "submission_rf = pd.DataFrame({\n",
    "    'PassengerId': pd.read_csv('test.csv')['PassengerId'],\n",
    "    'Survived': rf_predictions\n",
    "})\n",
    "\n",
    "submission_xgb = pd.DataFrame({\n",
    "    'PassengerId': pd.read_csv('test.csv')['PassengerId'],\n",
    "    'Survived': xgb_predictions\n",
    "})\n",
    "\n",
    "submission_rf.to_csv('submission_Random_Forst_TItle_5.csv', index=False)\n",
    "submission_xgb.to_csv('submission_XGBoost_TItle_5.csv', index=False)"
   ]
  },
  {
   "cell_type": "markdown",
   "metadata": {},
   "source": [
    "## Decision Tree"
   ]
  },
  {
   "cell_type": "code",
   "execution_count": 7,
   "metadata": {},
   "outputs": [
    {
     "name": "stdout",
     "output_type": "stream",
     "text": [
      "Best Parameters: {'criterion': 'gini', 'max_depth': 10, 'max_features': None, 'min_samples_leaf': 4, 'min_samples_split': 2}\n"
     ]
    }
   ],
   "source": [
    "# Decision Tree with GridSearchCV\n",
    "params = {\n",
    "    'criterion': ['gini', 'entropy'],\n",
    "    'max_depth': [None, 7, 10, 20, 30, 50 ],  # Explore deeper trees\n",
    "    'min_samples_split': [2, 5],\n",
    "    'min_samples_leaf': [1, 2, 4 ],\n",
    "    'max_features': ['sqrt', 'log2', None],  # Trying different max_features for random selection\n",
    "}\n",
    "\n",
    "# Best Parameters: {'criterion': 'gini', 'max_depth': 10, 'max_features': None, 'min_samples_leaf': 4, 'min_samples_split': 2}\n",
    "\n",
    "\n",
    "# Gave 79.88% accuracy\n",
    "# params = {\n",
    "#     'max_depth': [3, 5, 10, None],\n",
    "#     'min_samples_split': [2, 5, 10],\n",
    "#     'min_samples_leaf': [1, 2, 5],\n",
    "#     'criterion': ['gini', 'entropy']\n",
    "# }\n",
    "\n",
    "clf = DecisionTreeClassifier(random_state=42)\n",
    "grid_search = GridSearchCV(clf, param_grid=params, cv=5, scoring='accuracy')\n",
    "grid_search.fit(X_train, y_train)\n",
    "\n",
    "# Best parameters from GridSearchCV\n",
    "print(\"Best Parameters:\", grid_search.best_params_)\n",
    "\n",
    "\n",
    "# Training model with the best parameters\n",
    "best_model = grid_search.best_estimator_\n",
    "\n",
    "# Predict on test set\n",
    "X_test = test_df\n",
    "y_pred = best_model.predict(X_test)\n",
    "\n",
    "X_test[['Fare', 'Age']] = scaler.transform(X_test[['Fare', 'Age']])\n",
    "\n",
    "submission = pd.DataFrame({\n",
    "    'PassengerId': pd.read_csv('test.csv')['PassengerId'],\n",
    "    'Survived': y_pred\n",
    "})\n",
    "\n",
    "submission.to_csv('./submissions/submission_4_feature_engineering.csv', index=False)"
   ]
  },
  {
   "cell_type": "code",
   "execution_count": 3,
   "metadata": {},
   "outputs": [],
   "source": [
    "# Initialize the Random Forest classifier\n",
    "rf_model = RandomForestClassifier(n_estimators=100, random_state=42)\n",
    "\n",
    "rf_model.fit(X_train, y_train)\n",
    "\n",
    "y_pred = rf_model.predict(X_test)\n",
    "\n",
    "# Generate submission.csv\n",
    "submission = pd.DataFrame({\n",
    "    'PassengerId': pd.read_csv('test.csv')['PassengerId'],\n",
    "    'Survived': y_pred\n",
    "})\n",
    "\n",
    "submission.to_csv('Random_Forest_submission_2.csv', index=False)"
   ]
  },
  {
   "cell_type": "code",
   "execution_count": 10,
   "metadata": {},
   "outputs": [],
   "source": [
    "xgb_model = XGBClassifier(n_estimators=100, max_depth=5, learning_rate=0.1, random_state=42)\n",
    "\n",
    "xgb_model.fit(X_train, y_train)\n",
    "\n",
    "y_pred = xgb_model.predict(X_test)\n",
    "\n",
    "# Generate submission.csv\n",
    "submission = pd.DataFrame({\n",
    "    'PassengerId': pd.read_csv('test.csv')['PassengerId'],\n",
    "    'Survived': y_pred\n",
    "})\n",
    "\n",
    "submission.to_csv('XG_Boost_submission_3.csv', index=False)"
   ]
  }
 ],
 "metadata": {
  "kernelspec": {
   "display_name": "base",
   "language": "python",
   "name": "python3"
  },
  "language_info": {
   "codemirror_mode": {
    "name": "ipython",
    "version": 3
   },
   "file_extension": ".py",
   "mimetype": "text/x-python",
   "name": "python",
   "nbconvert_exporter": "python",
   "pygments_lexer": "ipython3",
   "version": "3.11.7"
  }
 },
 "nbformat": 4,
 "nbformat_minor": 2
}
